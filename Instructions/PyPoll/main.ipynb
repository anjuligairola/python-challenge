{
 "cells": [
  {
   "cell_type": "code",
   "execution_count": 1,
   "id": "3887338c",
   "metadata": {},
   "outputs": [],
   "source": [
    "# Create file path across operating systems\n",
    "import os"
   ]
  },
  {
   "cell_type": "code",
   "execution_count": 2,
   "id": "1818c877",
   "metadata": {},
   "outputs": [],
   "source": [
    "# Module for reading CSV files\n",
    "import csv"
   ]
  },
  {
   "cell_type": "code",
   "execution_count": 3,
   "id": "b7fe7a3e",
   "metadata": {},
   "outputs": [],
   "source": [
    "#Set path for file\n",
    "csvpath = os.path.join ('Resources', 'election_data.csv')\n",
    "output_path = os.path.join('analysis', 'pypoll.txt') "
   ]
  },
  {
   "cell_type": "code",
   "execution_count": 4,
   "id": "21eba651",
   "metadata": {},
   "outputs": [],
   "source": [
    "# Track various election parameters\n",
    "total_votes=0\n",
    "candidates=[\"Charles Casper Stockham\",\"Diana DeGette\", \"Raymon Anthony Doane\" ]\n",
    "candidate1_votes=0\n",
    "candidate2_votes=0\n",
    "candidate3_votes=0\n",
    "candidate_votes=[]\n",
    "\n"
   ]
  },
  {
   "cell_type": "code",
   "execution_count": 5,
   "id": "19bfe7b4",
   "metadata": {},
   "outputs": [],
   "source": [
    "#open the CSV\n",
    "with open(csvpath) as csvfile:\n",
    "    # CSV reader specifies delimiter and variable that holds contents\n",
    "    electiondata = csv.reader(csvfile, delimiter=',')\n",
    "    \n",
    "    # Read the header row\n",
    "    header = next(electiondata)\n",
    "    \n",
    "    \n",
    "    for row in electiondata:\n",
    "        total_votes= int(total_votes+1)\n",
    "        \n",
    "        if row[2]==candidates[0]:\n",
    "            candidate1_votes=int(candidate1_votes+1)\n",
    "            \n",
    "        elif row[2]==candidates[1]:\n",
    "            candidate2_votes=int(candidate2_votes+1)\n",
    "            \n",
    "        else:\n",
    "            candidate3_votes=int(candidate3_votes+1)\n",
    "            \n",
    "    candidate_votes.append(candidate1_votes)\n",
    "    candidate_votes.append(candidate2_votes)\n",
    "    candidate_votes.append(candidate3_votes)\n",
    "\n",
    "\n",
    "        \n",
    "    "
   ]
  },
  {
   "cell_type": "code",
   "execution_count": 6,
   "id": "87ae5db3",
   "metadata": {},
   "outputs": [],
   "source": [
    "#Calculate vote percentages \n",
    "candidate1_perc=(candidate1_votes/total_votes)*100\n",
    "candidate2_perc=(candidate2_votes/total_votes)*100\n",
    "candidate3_perc=(candidate3_votes/total_votes)*100\n"
   ]
  },
  {
   "cell_type": "code",
   "execution_count": 7,
   "id": "cf61b5a1",
   "metadata": {},
   "outputs": [],
   "source": [
    "#print all the statements\n",
    "print(f\"Election Results\")\n",
    "print(f\"-------------------------------------\")\n",
    "print(f\"Total votes: {total_votes}\")\n",
    "print(f\"-------------------------------------\")\n",
    "print(f\"{candidates[0]}:{candidate1_perc:.3f}% ({candidate_votes[0]})\")\n",
    "print(f\"{candidates[1]}:{candidate2_perc:.3f}% ({candidate_votes[1]})\")\n",
    "print(f\"{candidates[2]}:{candidate3_perc:.3f}% ({candidate_votes[2]})\")\n",
    "print(f\"-------------------------------------\")\n",
    "print(f\"Winner: {candidates[1]})\")\n",
    "print(f\"-------------------------------------\")"
   ]
  },
  {
   "cell_type": "code",
   "execution_count": 8,
   "id": "2e534743",
   "metadata": {},
   "outputs": [
    {
     "name": "stdout",
     "output_type": "stream",
     "text": [
      "Election Results\n",
      "-------------------------------------\n",
      "Total votes: 369711\n",
      "-------------------------------------\n",
      "Charles Casper Stockham:23.049% (85213)\n",
      "Diana DeGette:73.812% (272892)\n",
      "Raymon Anthony Doane:3.139% (11606)\n",
      "-------------------------------------\n",
      "Winner: Diana DeGette)\n",
      "-------------------------------------\n",
      "\n"
     ]
    }
   ],
   "source": [
    "#convert print to output for converting into text file\n",
    "output=(\n",
    "    f\"Election Results\\n\"\n",
    "    f\"-------------------------------------\\n\"\n",
    "    f\"Total votes: {total_votes}\\n\"\n",
    "    f\"-------------------------------------\\n\"\n",
    "    f\"{candidates[0]}:{candidate1_perc:.3f}% ({candidate_votes[0]})\\n\"\n",
    "    f\"{candidates[1]}:{candidate2_perc:.3f}% ({candidate_votes[1]})\\n\"\n",
    "    f\"{candidates[2]}:{candidate3_perc:.3f}% ({candidate_votes[2]})\\n\"\n",
    "    f\"-------------------------------------\\n\"\n",
    "    f\"Winner: {candidates[1]})\\n\"\n",
    "    f\"-------------------------------------\\n\")\n",
    "print(output)"
   ]
  },
  {
   "cell_type": "code",
   "execution_count": 9,
   "id": "4d4716b3",
   "metadata": {},
   "outputs": [],
   "source": [
    "# Export the results to text file\n",
    "with open(output_path, \"w\") as txt_file:\n",
    "    txt_file.write(output)"
   ]
  },
  {
   "cell_type": "code",
   "execution_count": null,
   "id": "964e3df0",
   "metadata": {},
   "outputs": [],
   "source": []
  }
 ],
 "metadata": {
  "kernelspec": {
   "display_name": "Python 3 (ipykernel)",
   "language": "python",
   "name": "python3"
  },
  "language_info": {
   "codemirror_mode": {
    "name": "ipython",
    "version": 3
   },
   "file_extension": ".py",
   "mimetype": "text/x-python",
   "name": "python",
   "nbconvert_exporter": "python",
   "pygments_lexer": "ipython3",
   "version": "3.7.7"
  }
 },
 "nbformat": 4,
 "nbformat_minor": 5
}
