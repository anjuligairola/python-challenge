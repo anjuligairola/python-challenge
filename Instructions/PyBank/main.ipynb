{
 "cells": [
  {
   "cell_type": "code",
   "execution_count": 1,
   "id": "217fb8bc",
   "metadata": {},
   "outputs": [],
   "source": [
    "# Create file path across operating systems\n",
    "import os"
   ]
  },
  {
   "cell_type": "code",
   "execution_count": 2,
   "id": "fcfeaa85",
   "metadata": {},
   "outputs": [],
   "source": [
    "# Module for reading CSV files\n",
    "import csv"
   ]
  },
  {
   "cell_type": "code",
   "execution_count": 3,
   "id": "cc08f50b",
   "metadata": {},
   "outputs": [],
   "source": [
    "#Set path for file\n",
    "csvpath = os.path.join ('Resources', 'budget_data.csv')\n",
    "output_path = os.path.join('analysis', 'pybank.txt') \n"
   ]
  },
  {
   "cell_type": "code",
   "execution_count": 4,
   "id": "930994fa",
   "metadata": {},
   "outputs": [],
   "source": [
    "# Define parameters\n",
    "change_list=[]\n",
    "months = 0\n",
    "total_change=0\n",
    "greatest_increase = [0,\"\"]\n",
    "greatest_decrease = [0,\"\"]\n"
   ]
  },
  {
   "cell_type": "code",
   "execution_count": 5,
   "id": "32993e0c",
   "metadata": {},
   "outputs": [],
   "source": [
    "#open the CSV\n",
    "with open(csvpath) as csvfile:\n",
    "    # CSV reader specifies delimiter and variable that holds contents\n",
    "    budgetdata = csv.reader(csvfile, delimiter=',')\n",
    "    \n",
    "    # Read the header row\n",
    "    header = next(budgetdata)\n",
    "    \n",
    "    #define row 1 values, row 1 is the first row after header row\n",
    "    row_1 = next(budgetdata)\n",
    "    months= int(months+1)            \n",
    "    current_proloss=int(row_1[1])\n",
    "    \n",
    "    #same as current_proloss as it is first row of data and nothing added to it yet\n",
    "    total_proloss=int(row_1[1])\n",
    "    #same as current_proloss as it is first row of data\n",
    "    pre_proloss=int(row_1[1])\n",
    "    \n",
    "    #starting with row 2 values after the header row\n",
    "    for row in budgetdata:\n",
    "        months=int(months+1)\n",
    "        total_proloss=total_proloss + int(row[1])\n",
    "        \n",
    "        #calculate the net profit/loss and add to the list\n",
    "        change=int(row[1])-pre_proloss\n",
    "        change_list.append(change)\n",
    "        \n",
    "        #calculate the greatest increase and save associated date to this increase in the list above\n",
    "        if change>greatest_increase[0]:\n",
    "            greatest_increase[0]=change\n",
    "            greatest_increase[1]=row[0]\n",
    "         \n",
    "        #calculate the greatest decrease and save associated date to this decrease in list above   \n",
    "        if change<greatest_decrease[0]:\n",
    "            greatest_decrease[0]=change\n",
    "            greatest_decrease[1]=row[0]\n",
    "            \n",
    "        #reset previous profit/loss value\n",
    "        pre_proloss = int(row[1])\n",
    "   \n",
    "        "
   ]
  },
  {
   "cell_type": "code",
   "execution_count": 6,
   "id": "bac8e681",
   "metadata": {},
   "outputs": [
    {
     "data": {
      "text/plain": [
       "-8311.105882352942"
      ]
     },
     "execution_count": 6,
     "metadata": {},
     "output_type": "execute_result"
    }
   ],
   "source": [
    "#Average of Profit/losses changes over the entire period\n",
    "#average_change=sum\n",
    "average_change=sum(change_list)/len(change_list)\n",
    "average_change"
   ]
  },
  {
   "cell_type": "code",
   "execution_count": 7,
   "id": "43f464ec",
   "metadata": {},
   "outputs": [
    {
     "name": "stdout",
     "output_type": "stream",
     "text": [
      "Financial Analysis\n",
      "-------------------------------------\n",
      "Total Months: 86\n",
      "Total: $22564198\n",
      "Average Change: $-8311.11\n",
      "Greatest Increase in Profits: Aug-16 ($1862002)\n",
      "Greatest Decrease in Profits: Feb-14 ($-1825558)\n"
     ]
    }
   ],
   "source": [
    "#print all the statements\n",
    "print(f\"Financial Analysis\")\n",
    "print(f\"-------------------------------------\")\n",
    "print(f\"Total Months: {months}\") \n",
    "print(f\"Total: ${total_proloss}\")\n",
    "print(f\"Average Change: ${average_change:.2f}\")\n",
    "print(f\"Greatest Increase in Profits: {greatest_increase[1]} (${greatest_increase[0]})\")\n",
    "print(f\"Greatest Decrease in Profits: {greatest_decrease[1]} (${greatest_decrease[0]})\")"
   ]
  },
  {
   "cell_type": "code",
   "execution_count": 8,
   "id": "e45004a8",
   "metadata": {},
   "outputs": [
    {
     "name": "stdout",
     "output_type": "stream",
     "text": [
      "Financial Analysis\n",
      "-------------------------------------\n",
      "Total Months: 86\n",
      "Total: $22564198\n",
      "Average Change: $-8311.11\n",
      "Greatest Increase in Profits: Aug-16 ($1862002)\n",
      "Greatest Decrease in Profits: Feb-14 ($-1825558)\n",
      "\n"
     ]
    }
   ],
   "source": [
    "#convert print to output for converting into text file\n",
    "output=(\n",
    "    f\"Financial Analysis\\n\"\n",
    "    f\"-------------------------------------\\n\"\n",
    "    f\"Total Months: {months}\\n\" \n",
    "    f\"Total: ${total_proloss}\\n\"\n",
    "    f\"Average Change: ${average_change:.2f}\\n\"\n",
    "    f\"Greatest Increase in Profits: {greatest_increase[1]} (${greatest_increase[0]})\\n\"\n",
    "    f\"Greatest Decrease in Profits: {greatest_decrease[1]} (${greatest_decrease[0]})\\n\")    \n",
    "print(output)"
   ]
  },
  {
   "cell_type": "code",
   "execution_count": 9,
   "id": "ce093cf3",
   "metadata": {},
   "outputs": [],
   "source": [
    "# Export the results to text file\n",
    "with open(output_path, \"w\") as txt_file:\n",
    "    txt_file.write(output)"
   ]
  },
  {
   "cell_type": "code",
   "execution_count": null,
   "id": "8768649f",
   "metadata": {},
   "outputs": [],
   "source": []
  }
 ],
 "metadata": {
  "kernelspec": {
   "display_name": "Python 3 (ipykernel)",
   "language": "python",
   "name": "python3"
  },
  "language_info": {
   "codemirror_mode": {
    "name": "ipython",
    "version": 3
   },
   "file_extension": ".py",
   "mimetype": "text/x-python",
   "name": "python",
   "nbconvert_exporter": "python",
   "pygments_lexer": "ipython3",
   "version": "3.7.7"
  }
 },
 "nbformat": 4,
 "nbformat_minor": 5
}
